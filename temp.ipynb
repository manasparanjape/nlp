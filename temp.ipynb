{
 "cells": [
  {
   "cell_type": "code",
   "execution_count": null,
   "metadata": {},
   "outputs": [],
   "source": [
    "import re\n",
    "import numpy as np\n",
    "import pandas as pd\n",
    "import matplotlib.pyplot as plt\n",
    "import tensorflow as tf\n",
    "from tensorflow.keras.preprocessing.text import Tokenizer\n",
    "from tensorflow.keras.preprocessing.sequence import pad_sequences"
   ]
  },
  {
   "cell_type": "code",
   "execution_count": null,
   "metadata": {},
   "outputs": [],
   "source": [
    "training_size = 30000\n",
    "vocabs_size = 10000\n",
    "embedding_dim = 16\n",
    "max_length = 200\n",
    "trunc_type = 'post'\n",
    "oov_tok = '<OOV>'"
   ]
  },
  {
   "cell_type": "code",
   "execution_count": 42,
   "metadata": {},
   "outputs": [],
   "source": [
    "imdb_dataset = pd.read_csv('../../../../mnt/c/NN/NLP/IMDB Dataset.csv')"
   ]
  },
  {
   "cell_type": "code",
   "execution_count": 43,
   "metadata": {},
   "outputs": [],
   "source": [
    "def clean_text(text):\n",
    "    text = text.lower()\n",
    "    text = re.sub(\"-\", \" \", text)\n",
    "    text = re.sub('\"', \" \", text)\n",
    "    text = re.sub(\"\\[.*?\\]\", \"\", text)\n",
    "    text = re.sub(\"https?://\\S+|www\\.\\S+\", \"\", text)\n",
    "    text = re.sub(\"<.*?>+\", \"\", text)\n",
    "    text = re.sub(\"\\n\", \"\", text)\n",
    "    text = re.sub(\"\\w*\\d\\w*\", \"\", text)\n",
    "    text = \" \".join(filter(lambda x: x[0] != \"@\", text.split()))\n",
    "    return text"
   ]
  },
  {
   "cell_type": "code",
   "execution_count": 45,
   "metadata": {},
   "outputs": [],
   "source": [
    "imdb_dataset['review'] = imdb_dataset['review'].apply(clean_text)\n",
    "imdb_dataset[\"sentiment\"] = imdb_dataset[\"sentiment\"].map({ 'negative' : 0, 'positive' : 1})"
   ]
  },
  {
   "cell_type": "code",
   "execution_count": null,
   "metadata": {},
   "outputs": [],
   "source": [
    "training_data = imdb_dataset['review'][:training_size]\n",
    "training_labels = imdb_dataset['sentiment'][:training_size]\n",
    "\n",
    "validation_data = imdb_dataset['review'][training_size:]\n",
    "validation_labels = imdb_dataset['sentiment'][training_size:]"
   ]
  }
 ],
 "metadata": {
  "kernelspec": {
   "display_name": "Python 3.9.7 ('mlenv')",
   "language": "python",
   "name": "python3"
  },
  "language_info": {
   "codemirror_mode": {
    "name": "ipython",
    "version": 3
   },
   "file_extension": ".py",
   "mimetype": "text/x-python",
   "name": "python",
   "nbconvert_exporter": "python",
   "pygments_lexer": "ipython3",
   "version": "3.9.12"
  },
  "orig_nbformat": 4,
  "vscode": {
   "interpreter": {
    "hash": "e731989cd326d52c77dd083fcea25a1c1d243382c978fca58052fddf4e4e75d8"
   }
  }
 },
 "nbformat": 4,
 "nbformat_minor": 2
}
