{
 "cells": [
  {
   "cell_type": "code",
   "execution_count": null,
   "metadata": {},
   "outputs": [],
   "source": [
    "import numpy as np\n",
    "import pandas as pd\n",
    "\n",
    "import tensorflow as tf\n",
    "from tensorflow import keras\n",
    "from keras.layers import TextVectorization\n",
    "from tensorflow import data\n",
    "from keras import layers, models"
   ]
  },
  {
   "cell_type": "code",
   "execution_count": null,
   "metadata": {},
   "outputs": [],
   "source": [
    "df = pd.read_csv('../../../../mnt/c/NN/NLP/IMDB Dataset.csv')\n",
    "reviews = df['review']\n",
    "sentiment = df['sentiment']"
   ]
  },
  {
   "cell_type": "code",
   "execution_count": null,
   "metadata": {},
   "outputs": [],
   "source": [
    "def func(data):\n",
    "    if (data == 'positive'):\n",
    "        return 1\n",
    "    else:\n",
    "        return 0"
   ]
  },
  {
   "cell_type": "code",
   "execution_count": null,
   "metadata": {},
   "outputs": [],
   "source": [
    "sentiment = sentiment.apply(func)"
   ]
  },
  {
   "cell_type": "code",
   "execution_count": null,
   "metadata": {},
   "outputs": [],
   "source": [
    "max_features = 40000\n",
    "vectorizer = TextVectorization(max_tokens=max_features, output_sequence_length=4000, output_mode='int')\n",
    "vectorizer.adapt(reviews.values)"
   ]
  },
  {
   "cell_type": "code",
   "execution_count": null,
   "metadata": {},
   "outputs": [],
   "source": [
    "vectorized_text = vectorizer(reviews.values)"
   ]
  },
  {
   "cell_type": "code",
   "execution_count": null,
   "metadata": {},
   "outputs": [],
   "source": [
    "vectorized_text = np.array(vectorized_text)\n",
    "sentiment = np.array(sentiment)"
   ]
  },
  {
   "cell_type": "code",
   "execution_count": null,
   "metadata": {},
   "outputs": [],
   "source": [
    "dataset = data.Dataset.from_tensor_slices((vectorized_text, sentiment))\n",
    "dataset = dataset.cache()\n",
    "dataset = dataset.shuffle(50000)\n",
    "dataset = dataset.batch(64)\n",
    "dataset = dataset.prefetch(32)\n",
    "\n",
    "reviews, sentiments = dataset.as_numpy_iterator().next()"
   ]
  },
  {
   "cell_type": "code",
   "execution_count": null,
   "metadata": {},
   "outputs": [],
   "source": [
    "train_size = int(len(dataset) * 0.7)\n",
    "val_size = int(len(dataset) * 0.2)\n",
    "test_size = int(len(dataset) * 0.1) + 1"
   ]
  },
  {
   "cell_type": "code",
   "execution_count": null,
   "metadata": {},
   "outputs": [],
   "source": [
    "train = dataset.take(train_size)\n",
    "val = dataset.skip(train_size).take(val_size)\n",
    "test = dataset.skip(train_size + val_size).take(test_size)"
   ]
  },
  {
   "cell_type": "code",
   "execution_count": null,
   "metadata": {},
   "outputs": [],
   "source": [
    "train_generator=train.as_numpy_iterator()\n",
    "batch=train_generator.next()"
   ]
  },
  {
   "cell_type": "code",
   "execution_count": null,
   "metadata": {},
   "outputs": [],
   "source": [
    "randomize = np.arange(np.size(reviews))\n",
    "np.random.shuffle(randomize)\n",
    "training_data = vectorized_text[randomize]\n",
    "training_labels = sentiment[randomize]\n",
    "\n",
    "test_data = training_data[int(0.8 * np.size(training_labels)):, :]\n",
    "test_labels = training_labels[int(0.8 * np.size(training_labels)):]\n",
    "\n",
    "training_data = training_data[:int(0.8 * np.size(training_labels)), :]\n",
    "training_labels = training_labels[:int(0.8 * np.size(training_labels))]"
   ]
  },
  {
   "cell_type": "code",
   "execution_count": null,
   "metadata": {},
   "outputs": [],
   "source": [
    "del(reviews)\n",
    "del(sentiment)\n",
    "del(randomize)\n",
    "del(vectorized_text)"
   ]
  },
  {
   "cell_type": "code",
   "execution_count": null,
   "metadata": {},
   "outputs": [],
   "source": [
    "model = models.Sequential()\n",
    "\n",
    "model.add(layers.Embedding(max_features + 1, 32, input_length=4000))\n",
    "\n",
    "model.add(layers.Bidirectional(layers.LSTM(64, activation='tanh')))\n",
    "\n",
    "model.add(layers.Dense(256, activation='tanh'))\n",
    "model.add(layers.Dropout(0.1))\n",
    "model.add(layers.Dense(128, activation='tanh'))\n",
    "\n",
    "model.add(layers.Dense(1, activation='sigmoid'))\n",
    "\n",
    "model.summary()"
   ]
  },
  {
   "cell_type": "code",
   "execution_count": null,
   "metadata": {},
   "outputs": [],
   "source": [
    "model.compile(loss=keras.losses.BinaryCrossentropy(), optimizer=keras.optimizers.Adam())"
   ]
  },
  {
   "cell_type": "code",
   "execution_count": null,
   "metadata": {},
   "outputs": [],
   "source": [
    "history=model.fit(train, epochs=16, validation_data=val)"
   ]
  }
 ],
 "metadata": {
  "kernelspec": {
   "display_name": "Python 3.9.7 ('mlenv')",
   "language": "python",
   "name": "python3"
  },
  "language_info": {
   "codemirror_mode": {
    "name": "ipython",
    "version": 3
   },
   "file_extension": ".py",
   "mimetype": "text/x-python",
   "name": "python",
   "nbconvert_exporter": "python",
   "pygments_lexer": "ipython3",
   "version": "3.9.7"
  },
  "orig_nbformat": 4,
  "vscode": {
   "interpreter": {
    "hash": "e731989cd326d52c77dd083fcea25a1c1d243382c978fca58052fddf4e4e75d8"
   }
  }
 },
 "nbformat": 4,
 "nbformat_minor": 2
}
